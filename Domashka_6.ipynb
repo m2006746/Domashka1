{
  "metadata": {
    "kernelspec": {
      "name": "python",
      "display_name": "Python (Pyodide)",
      "language": "python"
    },
    "language_info": {
      "codemirror_mode": {
        "name": "python",
        "version": 3
      },
      "file_extension": ".py",
      "mimetype": "text/x-python",
      "name": "python",
      "nbconvert_exporter": "python",
      "pygments_lexer": "ipython3",
      "version": "3.8"
    }
  },
  "nbformat_minor": 5,
  "nbformat": 4,
  "cells": [
    {
      "cell_type": "code",
      "source": "def extract_data(file_name, file_path):\n    !kaggle competitions dowload titanic -f $file_name -p $file_path --force",
      "metadata": {
        "trusted": true
      },
      "execution_count": null,
      "outputs": [],
      "id": "b0ba8e18-a8f8-41f2-bfa4-60ca1642a9b9"
    },
    {
      "cell_type": "code",
      "source": "#file names\nimport os\ntrain_file_name=\"train.csv\"\ntest_file_name=\"test.csv\"\n\n#file paths\nkaggle_path = os.path.join(os.path.pardir, 'date', 'raw')\nextract_data(train_file_name, kaggle_path)\nextract_data(test_file_name, kaggle_path)",
      "metadata": {
        "trusted": true
      },
      "execution_count": null,
      "outputs": [],
      "id": "69f9c13d-e641-43bf-8023-f30345bee0ce"
    },
    {
      "cell_type": "code",
      "source": "",
      "metadata": {},
      "execution_count": null,
      "outputs": [],
      "id": "f083d375-8570-495f-9d72-42e0c87c3b6d"
    }
  ]
}